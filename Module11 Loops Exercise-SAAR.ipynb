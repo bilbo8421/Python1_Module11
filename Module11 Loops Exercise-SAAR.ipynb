{
 "cells": [
  {
   "cell_type": "markdown",
   "metadata": {},
   "source": [
    "### Exercise 1\n",
    "Create a multiplication table from 1 to 10"
   ]
  },
  {
   "cell_type": "code",
   "execution_count": 4,
   "metadata": {},
   "outputs": [
    {
     "name": "stdout",
     "output_type": "stream",
     "text": [
      "\n",
      "*\n",
      "1\t 2\t 3\t 4\t 5\t 6\t 7\t 8\t 9\t 10\t \n",
      "*\n",
      "2\t 4\t 6\t 8\t 10\t 12\t 14\t 16\t 18\t 20\t \n",
      "*\n",
      "3\t 6\t 9\t 12\t 15\t 18\t 21\t 24\t 27\t 30\t \n",
      "*\n",
      "4\t 8\t 12\t 16\t 20\t 24\t 28\t 32\t 36\t 40\t \n",
      "*\n",
      "5\t 10\t 15\t 20\t 25\t 30\t 35\t 40\t 45\t 50\t \n",
      "*\n",
      "6\t 12\t 18\t 24\t 30\t 36\t 42\t 48\t 54\t 60\t \n",
      "*\n",
      "7\t 14\t 21\t 28\t 35\t 42\t 49\t 56\t 63\t 70\t \n",
      "*\n",
      "8\t 16\t 24\t 32\t 40\t 48\t 56\t 64\t 72\t 80\t \n",
      "*\n",
      "9\t 18\t 27\t 36\t 45\t 54\t 63\t 72\t 81\t 90\t \n",
      "*\n",
      "10\t 20\t 30\t 40\t 50\t 60\t 70\t 80\t 90\t 100\t "
     ]
    }
   ],
   "source": [
    "for i in range(1, 11):\n",
    "    print('\\n*') # * for observation to see when i prints\n",
    "    for j in range(1, 11):\n",
    "        # print((\"{:6d}\".format(i * j,)), end='')\n",
    "        print(i * j,  end='\\t ')"
   ]
  },
  {
   "cell_type": "markdown",
   "metadata": {},
   "source": [
    "### Exercise 2\n",
    "Write a program to find the Fibonacci numbers where each number is the sum of the two preceding ones, starting from 0 and 1. \n",
    "\n",
    "    e.g.\n",
    "    0, 1, 1, 2, 3, 5, 8, ...\n",
    "    \n",
    "Ask a user to enter a number. Next, generate user specified number of Fibonacci numbers into a list. Then print out the list. The output should look something like this:\n",
    "\n",
    "    How many Fibonacci numbers would you like to generate? 10    \n",
    "    10 Fibonacci numbers are [0, 1, 1, 2, 3, 5, 8, 13, 21, 34]."
   ]
  },
  {
   "cell_type": "code",
   "execution_count": 2,
   "metadata": {},
   "outputs": [],
   "source": [
    "# helpful ... https://www.youtube.com/watch?v=XBRlAxdUWDc\n",
    "\n",
    "def fibonacci(n) :\n",
    "\n",
    "    n = int(input(\"How many Fibonacci numbers would you like to generate?\"))\n",
    "    \n",
    "    init = [0,1] # initialize first 2 numbers in the sequence, continuous moving forward\n",
    "    \n",
    "    for i in range(2,n) :\n",
    "        init.append(init[-1] + init[-2]) # adding the 2 previous numbers in the list\n",
    "        \n",
    "    print(f\"{n} Fibonacci numbers are {init}\")    \n",
    "    # return "
   ]
  },
  {
   "cell_type": "code",
   "execution_count": 3,
   "metadata": {},
   "outputs": [
    {
     "name": "stdin",
     "output_type": "stream",
     "text": [
      "How many Fibonacci numbers would you like to generate? 14\n"
     ]
    },
    {
     "name": "stdout",
     "output_type": "stream",
     "text": [
      "14 Fibonacci numbers are [0, 1, 1, 2, 3, 5, 8, 13, 21, 34, 55, 89, 144, 233]\n"
     ]
    }
   ],
   "source": [
    "# n = int(input(\"How many Fibonacci numbers would you like to generate?))\n",
    "fibonacci(4)"
   ]
  },
  {
   "cell_type": "code",
   "execution_count": null,
   "metadata": {},
   "outputs": [],
   "source": []
  }
 ],
 "metadata": {
  "kernelspec": {
   "display_name": "Python 3 (ipykernel)",
   "language": "python",
   "name": "python3"
  },
  "language_info": {
   "codemirror_mode": {
    "name": "ipython",
    "version": 3
   },
   "file_extension": ".py",
   "mimetype": "text/x-python",
   "name": "python",
   "nbconvert_exporter": "python",
   "pygments_lexer": "ipython3",
   "version": "3.11.7"
  }
 },
 "nbformat": 4,
 "nbformat_minor": 4
}
